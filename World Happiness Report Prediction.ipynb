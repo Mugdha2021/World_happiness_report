{
 "cells": [
  {
   "cell_type": "code",
   "execution_count": 1,
   "metadata": {},
   "outputs": [
    {
     "name": "stdout",
     "output_type": "stream",
     "text": [
      "Requirement already satisfied: xgboost in c:\\users\\mugdha\\anaconda3\\lib\\site-packages (1.5.1)\n",
      "Requirement already satisfied: scipy in c:\\users\\mugdha\\anaconda3\\lib\\site-packages (from xgboost) (1.5.2)\n",
      "Requirement already satisfied: numpy in c:\\users\\mugdha\\anaconda3\\lib\\site-packages (from xgboost) (1.19.2)\n"
     ]
    }
   ],
   "source": [
    "import numpy as np\n",
    "import pandas as pd\n",
    "import matplotlib\n",
    "import matplotlib.pyplot as plt\n",
    "import seaborn as sns\n",
    "%matplotlib inline\n",
    "!pip3 install xgboost\n",
    "import warnings\n",
    "warnings.filterwarnings('ignore')\n",
    "warnings.warn(\"this will not show\")"
   ]
  },
  {
   "cell_type": "code",
   "execution_count": 2,
   "metadata": {},
   "outputs": [],
   "source": [
    "data_train = pd.read_csv(r'C:\\Users\\Mugdha\\Music\\GCDAI_9th May 2021\\World_Happiness_Report\\train_data.csv')"
   ]
  },
  {
   "cell_type": "code",
   "execution_count": 3,
   "metadata": {},
   "outputs": [
    {
     "name": "stdout",
     "output_type": "stream",
     "text": [
      "Shape of Train Dataset:  (1559, 12)\n"
     ]
    },
    {
     "data": {
      "text/html": [
       "<div>\n",
       "<style scoped>\n",
       "    .dataframe tbody tr th:only-of-type {\n",
       "        vertical-align: middle;\n",
       "    }\n",
       "\n",
       "    .dataframe tbody tr th {\n",
       "        vertical-align: top;\n",
       "    }\n",
       "\n",
       "    .dataframe thead th {\n",
       "        text-align: right;\n",
       "    }\n",
       "</style>\n",
       "<table border=\"1\" class=\"dataframe\">\n",
       "  <thead>\n",
       "    <tr style=\"text-align: right;\">\n",
       "      <th></th>\n",
       "      <th>Country name</th>\n",
       "      <th>year</th>\n",
       "      <th>Log GDP per capita</th>\n",
       "      <th>Social support</th>\n",
       "      <th>Healthy life expectancy at birth</th>\n",
       "      <th>Freedom to make life choices</th>\n",
       "      <th>Generosity</th>\n",
       "      <th>Perceptions of corruption</th>\n",
       "      <th>Positive affect</th>\n",
       "      <th>Negative affect</th>\n",
       "      <th>ID</th>\n",
       "      <th>Life Ladder</th>\n",
       "    </tr>\n",
       "  </thead>\n",
       "  <tbody>\n",
       "    <tr>\n",
       "      <th>0</th>\n",
       "      <td>Jordan</td>\n",
       "      <td>2008</td>\n",
       "      <td>9.343</td>\n",
       "      <td>0.766</td>\n",
       "      <td>64.22</td>\n",
       "      <td>NaN</td>\n",
       "      <td>-0.127</td>\n",
       "      <td>0.709</td>\n",
       "      <td>0.669</td>\n",
       "      <td>0.331</td>\n",
       "      <td>862</td>\n",
       "      <td>4.930</td>\n",
       "    </tr>\n",
       "    <tr>\n",
       "      <th>1</th>\n",
       "      <td>Estonia</td>\n",
       "      <td>2013</td>\n",
       "      <td>10.299</td>\n",
       "      <td>0.901</td>\n",
       "      <td>67.48</td>\n",
       "      <td>0.754</td>\n",
       "      <td>-0.201</td>\n",
       "      <td>0.726</td>\n",
       "      <td>0.702</td>\n",
       "      <td>0.199</td>\n",
       "      <td>534</td>\n",
       "      <td>5.367</td>\n",
       "    </tr>\n",
       "    <tr>\n",
       "      <th>2</th>\n",
       "      <td>Sweden</td>\n",
       "      <td>2018</td>\n",
       "      <td>10.881</td>\n",
       "      <td>0.931</td>\n",
       "      <td>72.60</td>\n",
       "      <td>0.942</td>\n",
       "      <td>0.077</td>\n",
       "      <td>0.263</td>\n",
       "      <td>0.823</td>\n",
       "      <td>0.161</td>\n",
       "      <td>1649</td>\n",
       "      <td>7.375</td>\n",
       "    </tr>\n",
       "    <tr>\n",
       "      <th>3</th>\n",
       "      <td>Tajikistan</td>\n",
       "      <td>2006</td>\n",
       "      <td>7.554</td>\n",
       "      <td>0.724</td>\n",
       "      <td>60.64</td>\n",
       "      <td>0.702</td>\n",
       "      <td>-0.088</td>\n",
       "      <td>0.768</td>\n",
       "      <td>0.566</td>\n",
       "      <td>0.195</td>\n",
       "      <td>1682</td>\n",
       "      <td>4.613</td>\n",
       "    </tr>\n",
       "    <tr>\n",
       "      <th>4</th>\n",
       "      <td>Kuwait</td>\n",
       "      <td>2014</td>\n",
       "      <td>10.945</td>\n",
       "      <td>NaN</td>\n",
       "      <td>65.80</td>\n",
       "      <td>NaN</td>\n",
       "      <td>NaN</td>\n",
       "      <td>NaN</td>\n",
       "      <td>NaN</td>\n",
       "      <td>NaN</td>\n",
       "      <td>925</td>\n",
       "      <td>6.180</td>\n",
       "    </tr>\n",
       "  </tbody>\n",
       "</table>\n",
       "</div>"
      ],
      "text/plain": [
       "  Country name  year  Log GDP per capita  Social support  \\\n",
       "0       Jordan  2008               9.343           0.766   \n",
       "1      Estonia  2013              10.299           0.901   \n",
       "2       Sweden  2018              10.881           0.931   \n",
       "3   Tajikistan  2006               7.554           0.724   \n",
       "4       Kuwait  2014              10.945             NaN   \n",
       "\n",
       "   Healthy life expectancy at birth  Freedom to make life choices  Generosity  \\\n",
       "0                             64.22                           NaN      -0.127   \n",
       "1                             67.48                         0.754      -0.201   \n",
       "2                             72.60                         0.942       0.077   \n",
       "3                             60.64                         0.702      -0.088   \n",
       "4                             65.80                           NaN         NaN   \n",
       "\n",
       "   Perceptions of corruption  Positive affect  Negative affect    ID  \\\n",
       "0                      0.709            0.669            0.331   862   \n",
       "1                      0.726            0.702            0.199   534   \n",
       "2                      0.263            0.823            0.161  1649   \n",
       "3                      0.768            0.566            0.195  1682   \n",
       "4                        NaN              NaN              NaN   925   \n",
       "\n",
       "   Life Ladder  \n",
       "0        4.930  \n",
       "1        5.367  \n",
       "2        7.375  \n",
       "3        4.613  \n",
       "4        6.180  "
      ]
     },
     "execution_count": 3,
     "metadata": {},
     "output_type": "execute_result"
    }
   ],
   "source": [
    "print('Shape of Train Dataset: ', data_train.shape)\n",
    "data_train.head()"
   ]
  },
  {
   "cell_type": "code",
   "execution_count": 4,
   "metadata": {},
   "outputs": [
    {
     "data": {
      "text/plain": [
       "Index(['Country name', 'year', 'Log GDP per capita', 'Social support',\n",
       "       'Healthy life expectancy at birth', 'Freedom to make life choices',\n",
       "       'Generosity', 'Perceptions of corruption', 'Positive affect',\n",
       "       'Negative affect', 'ID', 'Life Ladder'],\n",
       "      dtype='object')"
      ]
     },
     "execution_count": 4,
     "metadata": {},
     "output_type": "execute_result"
    }
   ],
   "source": [
    "data_train.columns"
   ]
  },
  {
   "cell_type": "code",
   "execution_count": 5,
   "metadata": {},
   "outputs": [
    {
     "data": {
      "text/html": [
       "<div>\n",
       "<style scoped>\n",
       "    .dataframe tbody tr th:only-of-type {\n",
       "        vertical-align: middle;\n",
       "    }\n",
       "\n",
       "    .dataframe tbody tr th {\n",
       "        vertical-align: top;\n",
       "    }\n",
       "\n",
       "    .dataframe thead th {\n",
       "        text-align: right;\n",
       "    }\n",
       "</style>\n",
       "<table border=\"1\" class=\"dataframe\">\n",
       "  <thead>\n",
       "    <tr style=\"text-align: right;\">\n",
       "      <th></th>\n",
       "      <th>year</th>\n",
       "      <th>Log GDP per capita</th>\n",
       "      <th>Social support</th>\n",
       "      <th>Healthy life expectancy at birth</th>\n",
       "      <th>Freedom to make life choices</th>\n",
       "      <th>Generosity</th>\n",
       "      <th>Perceptions of corruption</th>\n",
       "      <th>Positive affect</th>\n",
       "      <th>Negative affect</th>\n",
       "      <th>ID</th>\n",
       "      <th>Life Ladder</th>\n",
       "    </tr>\n",
       "  </thead>\n",
       "  <tbody>\n",
       "    <tr>\n",
       "      <th>count</th>\n",
       "      <td>1559.000000</td>\n",
       "      <td>1533.000000</td>\n",
       "      <td>1549.000000</td>\n",
       "      <td>1522.000000</td>\n",
       "      <td>1537.000000</td>\n",
       "      <td>1488.000000</td>\n",
       "      <td>1473.000000</td>\n",
       "      <td>1542.000000</td>\n",
       "      <td>1545.000000</td>\n",
       "      <td>1559.000000</td>\n",
       "      <td>1559.000000</td>\n",
       "    </tr>\n",
       "    <tr>\n",
       "      <th>mean</th>\n",
       "      <td>2013.131495</td>\n",
       "      <td>9.362995</td>\n",
       "      <td>0.812689</td>\n",
       "      <td>63.331680</td>\n",
       "      <td>0.741882</td>\n",
       "      <td>0.000343</td>\n",
       "      <td>0.748248</td>\n",
       "      <td>0.708551</td>\n",
       "      <td>0.267644</td>\n",
       "      <td>974.962797</td>\n",
       "      <td>5.469321</td>\n",
       "    </tr>\n",
       "    <tr>\n",
       "      <th>std</th>\n",
       "      <td>4.206026</td>\n",
       "      <td>1.160240</td>\n",
       "      <td>0.118762</td>\n",
       "      <td>7.478307</td>\n",
       "      <td>0.142326</td>\n",
       "      <td>0.163385</td>\n",
       "      <td>0.186708</td>\n",
       "      <td>0.108029</td>\n",
       "      <td>0.084431</td>\n",
       "      <td>562.023107</td>\n",
       "      <td>1.113280</td>\n",
       "    </tr>\n",
       "    <tr>\n",
       "      <th>min</th>\n",
       "      <td>2005.000000</td>\n",
       "      <td>6.635000</td>\n",
       "      <td>0.290000</td>\n",
       "      <td>32.300000</td>\n",
       "      <td>0.260000</td>\n",
       "      <td>-0.335000</td>\n",
       "      <td>0.035000</td>\n",
       "      <td>0.322000</td>\n",
       "      <td>0.083000</td>\n",
       "      <td>0.000000</td>\n",
       "      <td>2.375000</td>\n",
       "    </tr>\n",
       "    <tr>\n",
       "      <th>25%</th>\n",
       "      <td>2010.000000</td>\n",
       "      <td>8.460000</td>\n",
       "      <td>0.753000</td>\n",
       "      <td>58.340000</td>\n",
       "      <td>0.646000</td>\n",
       "      <td>-0.113000</td>\n",
       "      <td>0.691000</td>\n",
       "      <td>0.623000</td>\n",
       "      <td>0.206000</td>\n",
       "      <td>494.500000</td>\n",
       "      <td>4.649500</td>\n",
       "    </tr>\n",
       "    <tr>\n",
       "      <th>50%</th>\n",
       "      <td>2013.000000</td>\n",
       "      <td>9.456000</td>\n",
       "      <td>0.835000</td>\n",
       "      <td>65.180000</td>\n",
       "      <td>0.763000</td>\n",
       "      <td>-0.025000</td>\n",
       "      <td>0.804000</td>\n",
       "      <td>0.721000</td>\n",
       "      <td>0.258000</td>\n",
       "      <td>973.000000</td>\n",
       "      <td>5.374000</td>\n",
       "    </tr>\n",
       "    <tr>\n",
       "      <th>75%</th>\n",
       "      <td>2017.000000</td>\n",
       "      <td>10.332000</td>\n",
       "      <td>0.905000</td>\n",
       "      <td>68.535000</td>\n",
       "      <td>0.855000</td>\n",
       "      <td>0.091000</td>\n",
       "      <td>0.873000</td>\n",
       "      <td>0.798000</td>\n",
       "      <td>0.319000</td>\n",
       "      <td>1459.500000</td>\n",
       "      <td>6.272500</td>\n",
       "    </tr>\n",
       "    <tr>\n",
       "      <th>max</th>\n",
       "      <td>2020.000000</td>\n",
       "      <td>11.648000</td>\n",
       "      <td>0.987000</td>\n",
       "      <td>77.100000</td>\n",
       "      <td>0.985000</td>\n",
       "      <td>0.698000</td>\n",
       "      <td>0.983000</td>\n",
       "      <td>0.944000</td>\n",
       "      <td>0.705000</td>\n",
       "      <td>1948.000000</td>\n",
       "      <td>8.019000</td>\n",
       "    </tr>\n",
       "  </tbody>\n",
       "</table>\n",
       "</div>"
      ],
      "text/plain": [
       "              year  Log GDP per capita  Social support  \\\n",
       "count  1559.000000         1533.000000     1549.000000   \n",
       "mean   2013.131495            9.362995        0.812689   \n",
       "std       4.206026            1.160240        0.118762   \n",
       "min    2005.000000            6.635000        0.290000   \n",
       "25%    2010.000000            8.460000        0.753000   \n",
       "50%    2013.000000            9.456000        0.835000   \n",
       "75%    2017.000000           10.332000        0.905000   \n",
       "max    2020.000000           11.648000        0.987000   \n",
       "\n",
       "       Healthy life expectancy at birth  Freedom to make life choices  \\\n",
       "count                       1522.000000                   1537.000000   \n",
       "mean                          63.331680                      0.741882   \n",
       "std                            7.478307                      0.142326   \n",
       "min                           32.300000                      0.260000   \n",
       "25%                           58.340000                      0.646000   \n",
       "50%                           65.180000                      0.763000   \n",
       "75%                           68.535000                      0.855000   \n",
       "max                           77.100000                      0.985000   \n",
       "\n",
       "        Generosity  Perceptions of corruption  Positive affect  \\\n",
       "count  1488.000000                1473.000000      1542.000000   \n",
       "mean      0.000343                   0.748248         0.708551   \n",
       "std       0.163385                   0.186708         0.108029   \n",
       "min      -0.335000                   0.035000         0.322000   \n",
       "25%      -0.113000                   0.691000         0.623000   \n",
       "50%      -0.025000                   0.804000         0.721000   \n",
       "75%       0.091000                   0.873000         0.798000   \n",
       "max       0.698000                   0.983000         0.944000   \n",
       "\n",
       "       Negative affect           ID  Life Ladder  \n",
       "count      1545.000000  1559.000000  1559.000000  \n",
       "mean          0.267644   974.962797     5.469321  \n",
       "std           0.084431   562.023107     1.113280  \n",
       "min           0.083000     0.000000     2.375000  \n",
       "25%           0.206000   494.500000     4.649500  \n",
       "50%           0.258000   973.000000     5.374000  \n",
       "75%           0.319000  1459.500000     6.272500  \n",
       "max           0.705000  1948.000000     8.019000  "
      ]
     },
     "execution_count": 5,
     "metadata": {},
     "output_type": "execute_result"
    }
   ],
   "source": [
    "data_train.describe()"
   ]
  },
  {
   "cell_type": "code",
   "execution_count": 6,
   "metadata": {},
   "outputs": [
    {
     "name": "stdout",
     "output_type": "stream",
     "text": [
      "<class 'pandas.core.frame.DataFrame'>\n",
      "RangeIndex: 1559 entries, 0 to 1558\n",
      "Data columns (total 12 columns):\n",
      " #   Column                            Non-Null Count  Dtype  \n",
      "---  ------                            --------------  -----  \n",
      " 0   Country name                      1559 non-null   object \n",
      " 1   year                              1559 non-null   int64  \n",
      " 2   Log GDP per capita                1533 non-null   float64\n",
      " 3   Social support                    1549 non-null   float64\n",
      " 4   Healthy life expectancy at birth  1522 non-null   float64\n",
      " 5   Freedom to make life choices      1537 non-null   float64\n",
      " 6   Generosity                        1488 non-null   float64\n",
      " 7   Perceptions of corruption         1473 non-null   float64\n",
      " 8   Positive affect                   1542 non-null   float64\n",
      " 9   Negative affect                   1545 non-null   float64\n",
      " 10  ID                                1559 non-null   int64  \n",
      " 11  Life Ladder                       1559 non-null   float64\n",
      "dtypes: float64(9), int64(2), object(1)\n",
      "memory usage: 146.3+ KB\n"
     ]
    }
   ],
   "source": [
    "data_train.info()"
   ]
  },
  {
   "cell_type": "code",
   "execution_count": 7,
   "metadata": {},
   "outputs": [
    {
     "data": {
      "text/plain": [
       "Country name                         0\n",
       "year                                 0\n",
       "Log GDP per capita                  26\n",
       "Social support                      10\n",
       "Healthy life expectancy at birth    37\n",
       "Freedom to make life choices        22\n",
       "Generosity                          71\n",
       "Perceptions of corruption           86\n",
       "Positive affect                     17\n",
       "Negative affect                     14\n",
       "ID                                   0\n",
       "Life Ladder                          0\n",
       "dtype: int64"
      ]
     },
     "execution_count": 7,
     "metadata": {},
     "output_type": "execute_result"
    }
   ],
   "source": [
    "data_train.isnull().sum()"
   ]
  },
  {
   "cell_type": "code",
   "execution_count": 8,
   "metadata": {},
   "outputs": [
    {
     "name": "stdout",
     "output_type": "stream",
     "text": [
      "Duplicated values in the Trained Dataset:  False\n"
     ]
    }
   ],
   "source": [
    "print('Duplicated values in the Trained Dataset: ',data_train.duplicated().any())    "
   ]
  },
  {
   "cell_type": "code",
   "execution_count": 9,
   "metadata": {},
   "outputs": [],
   "source": [
    "# Handling Missing values \n",
    "data_train['Log GDP per capita'] = data_train['Log GDP per capita'].fillna(data_train['Log GDP per capita'].mean())\n",
    "data_train['Social support'] = data_train['Social support'].fillna(data_train['Social support'].mean())\n",
    "data_train['Healthy life expectancy at birth'] = data_train['Healthy life expectancy at birth'].fillna(data_train['Healthy life expectancy at birth'].mean())\n",
    "data_train['Freedom to make life choices'] = data_train['Freedom to make life choices'].fillna(data_train['Freedom to make life choices'].mean())\n",
    "data_train['Generosity'] = data_train['Generosity'].fillna(data_train['Generosity'].mean())\n",
    "data_train['Perceptions of corruption'] = data_train['Perceptions of corruption'].fillna(data_train['Perceptions of corruption'].mean())\n",
    "data_train['Positive affect'] = data_train['Positive affect'].fillna(data_train['Positive affect'].mean())\n",
    "data_train['Negative affect'] = data_train['Negative affect'].fillna(data_train['Negative affect'].mean())"
   ]
  },
  {
   "cell_type": "code",
   "execution_count": 10,
   "metadata": {},
   "outputs": [
    {
     "data": {
      "text/plain": [
       "Country name                        0\n",
       "year                                0\n",
       "Log GDP per capita                  0\n",
       "Social support                      0\n",
       "Healthy life expectancy at birth    0\n",
       "Freedom to make life choices        0\n",
       "Generosity                          0\n",
       "Perceptions of corruption           0\n",
       "Positive affect                     0\n",
       "Negative affect                     0\n",
       "ID                                  0\n",
       "Life Ladder                         0\n",
       "dtype: int64"
      ]
     },
     "execution_count": 10,
     "metadata": {},
     "output_type": "execute_result"
    }
   ],
   "source": [
    "data_train.isnull().sum()"
   ]
  },
  {
   "cell_type": "code",
   "execution_count": 11,
   "metadata": {},
   "outputs": [
    {
     "data": {
      "text/plain": [
       "<AxesSubplot:>"
      ]
     },
     "execution_count": 11,
     "metadata": {},
     "output_type": "execute_result"
    },
    {
     "data": {
      "image/png": "[encoded data removed]",
      "text/plain": [
       "<Figure size 864x504 with 2 Axes>"
      ]
     },
     "metadata": {
      "needs_background": "light"
     },
     "output_type": "display_data"
    }
   ],
   "source": [
    "figure = plt.figure(figsize = (12,7))\n",
    "sns.heatmap(data = data_train.corr(), annot = True, cmap = 'Set2',vmin = 0, vmax = 1,linecolor = 'black',linewidths = 1)"
   ]
  },
  {
   "cell_type": "code",
   "execution_count": 12,
   "metadata": {},
   "outputs": [
    {
     "data": {
      "text/plain": [
       "<AxesSubplot:xlabel='Life Ladder', ylabel='Density'>"
      ]
     },
     "execution_count": 12,
     "metadata": {},
     "output_type": "execute_result"
    },
    {
     "data": {
      "image/png": "[encoded data removed]",
      "text/plain": [
       "<Figure size 432x288 with 1 Axes>"
      ]
     },
     "metadata": {
      "needs_background": "light"
     },
     "output_type": "display_data"
    }
   ],
   "source": [
    "sns.distplot(data_train['Life Ladder'], kde = True)"
   ]
  },
  {
   "cell_type": "markdown",
   "metadata": {},
   "source": [
    "## Observations:-\n",
    "- Shape of the dataset : 1559 rows and 12 features\n",
    "- The dataset contains happiness records from total 165 countries.\n",
    "- Total 11 Features are integer/float.\n",
    "- Highest positive correlation between Healthy life expectancy at birth and Log GDP per capita\n",
    "- Dataset has Missing values which are taken care now.\n",
    "- Standard Deviation of dependent variabe : 1.11\n",
    "- Target variable 'Life_Ladder' is Positively Skewed"
   ]
  },
  {
   "cell_type": "code",
   "execution_count": 13,
   "metadata": {},
   "outputs": [],
   "source": [
    "from sklearn.preprocessing import LabelEncoder\n",
    "le =  LabelEncoder()"
   ]
  },
  {
   "cell_type": "code",
   "execution_count": 14,
   "metadata": {},
   "outputs": [],
   "source": [
    "df_num = data_train.select_dtypes(include = ['int64','float64'])\n",
    "df_cat = data_train.drop(df_num, axis = 1)"
   ]
  },
  {
   "cell_type": "code",
   "execution_count": 15,
   "metadata": {},
   "outputs": [],
   "source": [
    "df_cat = df_cat.apply(le.fit_transform)"
   ]
  },
  {
   "cell_type": "code",
   "execution_count": 16,
   "metadata": {},
   "outputs": [],
   "source": [
    "data = pd.concat([df_num, df_cat], axis = 1)"
   ]
  },
  {
   "cell_type": "code",
   "execution_count": 17,
   "metadata": {},
   "outputs": [
    {
     "name": "stdout",
     "output_type": "stream",
     "text": [
      "<class 'pandas.core.frame.DataFrame'>\n",
      "RangeIndex: 5 entries, 0 to 4\n",
      "Data columns (total 12 columns):\n",
      " #   Column                            Non-Null Count  Dtype  \n",
      "---  ------                            --------------  -----  \n",
      " 0   year                              5 non-null      int64  \n",
      " 1   Log GDP per capita                5 non-null      float64\n",
      " 2   Social support                    5 non-null      float64\n",
      " 3   Healthy life expectancy at birth  5 non-null      float64\n",
      " 4   Freedom to make life choices      5 non-null      float64\n",
      " 5   Generosity                        5 non-null      float64\n",
      " 6   Perceptions of corruption         5 non-null      float64\n",
      " 7   Positive affect                   5 non-null      float64\n",
      " 8   Negative affect                   5 non-null      float64\n",
      " 9   ID                                5 non-null      int64  \n",
      " 10  Life Ladder                       5 non-null      float64\n",
      " 11  Country name                      5 non-null      int32  \n",
      "dtypes: float64(9), int32(1), int64(2)\n",
      "memory usage: 588.0 bytes\n"
     ]
    }
   ],
   "source": [
    "data.head().info()"
   ]
  },
  {
   "cell_type": "code",
   "execution_count": 18,
   "metadata": {},
   "outputs": [],
   "source": [
    "data = data[['Country name','year','Log GDP per capita','Social support','Healthy life expectancy at birth',\n",
    "            'Freedom to make life choices','Generosity','Perceptions of corruption','Positive affect',\n",
    "            'Negative affect','ID','Life Ladder']]"
   ]
  },
  {
   "cell_type": "code",
   "execution_count": 19,
   "metadata": {},
   "outputs": [
    {
     "name": "stdout",
     "output_type": "stream",
     "text": [
      "<class 'pandas.core.frame.DataFrame'>\n",
      "RangeIndex: 5 entries, 0 to 4\n",
      "Data columns (total 12 columns):\n",
      " #   Column                            Non-Null Count  Dtype  \n",
      "---  ------                            --------------  -----  \n",
      " 0   Country name                      5 non-null      int32  \n",
      " 1   year                              5 non-null      int64  \n",
      " 2   Log GDP per capita                5 non-null      float64\n",
      " 3   Social support                    5 non-null      float64\n",
      " 4   Healthy life expectancy at birth  5 non-null      float64\n",
      " 5   Freedom to make life choices      5 non-null      float64\n",
      " 6   Generosity                        5 non-null      float64\n",
      " 7   Perceptions of corruption         5 non-null      float64\n",
      " 8   Positive affect                   5 non-null      float64\n",
      " 9   Negative affect                   5 non-null      float64\n",
      " 10  ID                                5 non-null      int64  \n",
      " 11  Life Ladder                       5 non-null      float64\n",
      "dtypes: float64(9), int32(1), int64(2)\n",
      "memory usage: 588.0 bytes\n"
     ]
    }
   ],
   "source": [
    "data.head().info()"
   ]
  },
  {
   "cell_type": "code",
   "execution_count": 20,
   "metadata": {},
   "outputs": [],
   "source": [
    "data_features = data.drop(['Life Ladder'], axis = 1)\n",
    "data_target = data['Life Ladder']"
   ]
  },
  {
   "cell_type": "code",
   "execution_count": 21,
   "metadata": {},
   "outputs": [
    {
     "name": "stdout",
     "output_type": "stream",
     "text": [
      "Shape of Train data_features:  (1559, 11)\n",
      "Shape of Train data_target:  (1559,)\n"
     ]
    }
   ],
   "source": [
    "print('Shape of Train data_features: ',data_features.shape)\n",
    "print('Shape of Train data_target: ',data_target.shape)"
   ]
  },
  {
   "cell_type": "code",
   "execution_count": 22,
   "metadata": {},
   "outputs": [],
   "source": [
    "from sklearn.model_selection import train_test_split"
   ]
  },
  {
   "cell_type": "code",
   "execution_count": 23,
   "metadata": {},
   "outputs": [],
   "source": [
    "X_train, X_test, y_train, y_test = train_test_split(data_features, data_target, test_size = 0.2, random_state = 4)"
   ]
  },
  {
   "cell_type": "code",
   "execution_count": 24,
   "metadata": {},
   "outputs": [
    {
     "name": "stdout",
     "output_type": "stream",
     "text": [
      "Shape of x train:  (1247, 11)\n",
      "Shape of x test:  (312, 11)\n",
      "Shape of y train:  (1247,)\n",
      "Shape of y test:  (312,)\n"
     ]
    }
   ],
   "source": [
    "print('Shape of x train: ', X_train.shape)\n",
    "print('Shape of x test: ', X_test.shape)\n",
    "print('Shape of y train: ', y_train.shape)\n",
    "print('Shape of y test: ', y_test.shape)"
   ]
  },
  {
   "cell_type": "code",
   "execution_count": 25,
   "metadata": {},
   "outputs": [],
   "source": [
    "from sklearn.preprocessing import StandardScaler\n",
    "sc = StandardScaler()"
   ]
  },
  {
   "cell_type": "code",
   "execution_count": 26,
   "metadata": {},
   "outputs": [
    {
     "data": {
      "text/plain": [
       "Index(['Log GDP per capita', 'Healthy life expectancy at birth'], dtype='object')"
      ]
     },
     "execution_count": 26,
     "metadata": {},
     "output_type": "execute_result"
    }
   ],
   "source": [
    "numeric_features = X_train[['Log GDP per capita', 'Healthy life expectancy at birth']].columns\n",
    "numeric_features"
   ]
  },
  {
   "cell_type": "code",
   "execution_count": 27,
   "metadata": {},
   "outputs": [],
   "source": [
    "X_train[numeric_features] = sc.fit_transform(X_train[numeric_features])"
   ]
  },
  {
   "cell_type": "code",
   "execution_count": 28,
   "metadata": {},
   "outputs": [],
   "source": [
    "X_test[numeric_features] = sc.transform(X_test[numeric_features])"
   ]
  },
  {
   "cell_type": "code",
   "execution_count": 29,
   "metadata": {},
   "outputs": [
    {
     "data": {
      "text/html": [
       "<div>\n",
       "<style scoped>\n",
       "    .dataframe tbody tr th:only-of-type {\n",
       "        vertical-align: middle;\n",
       "    }\n",
       "\n",
       "    .dataframe tbody tr th {\n",
       "        vertical-align: top;\n",
       "    }\n",
       "\n",
       "    .dataframe thead th {\n",
       "        text-align: right;\n",
       "    }\n",
       "</style>\n",
       "<table border=\"1\" class=\"dataframe\">\n",
       "  <thead>\n",
       "    <tr style=\"text-align: right;\">\n",
       "      <th></th>\n",
       "      <th>Country name</th>\n",
       "      <th>year</th>\n",
       "      <th>Log GDP per capita</th>\n",
       "      <th>Social support</th>\n",
       "      <th>Healthy life expectancy at birth</th>\n",
       "      <th>Freedom to make life choices</th>\n",
       "      <th>Generosity</th>\n",
       "      <th>Perceptions of corruption</th>\n",
       "      <th>Positive affect</th>\n",
       "      <th>Negative affect</th>\n",
       "      <th>ID</th>\n",
       "    </tr>\n",
       "  </thead>\n",
       "  <tbody>\n",
       "    <tr>\n",
       "      <th>772</th>\n",
       "      <td>107</td>\n",
       "      <td>2014</td>\n",
       "      <td>-2.034411</td>\n",
       "      <td>0.753</td>\n",
       "      <td>-1.597299</td>\n",
       "      <td>0.688</td>\n",
       "      <td>-0.046000</td>\n",
       "      <td>0.605</td>\n",
       "      <td>0.678</td>\n",
       "      <td>0.205</td>\n",
       "      <td>1261</td>\n",
       "    </tr>\n",
       "    <tr>\n",
       "      <th>786</th>\n",
       "      <td>97</td>\n",
       "      <td>2012</td>\n",
       "      <td>-0.181627</td>\n",
       "      <td>0.919</td>\n",
       "      <td>-0.333302</td>\n",
       "      <td>0.688</td>\n",
       "      <td>0.107000</td>\n",
       "      <td>0.932</td>\n",
       "      <td>0.689</td>\n",
       "      <td>0.181</td>\n",
       "      <td>1142</td>\n",
       "    </tr>\n",
       "    <tr>\n",
       "      <th>1358</th>\n",
       "      <td>107</td>\n",
       "      <td>2019</td>\n",
       "      <td>-1.965725</td>\n",
       "      <td>0.677</td>\n",
       "      <td>-1.255532</td>\n",
       "      <td>0.831</td>\n",
       "      <td>0.026000</td>\n",
       "      <td>0.729</td>\n",
       "      <td>0.816</td>\n",
       "      <td>0.304</td>\n",
       "      <td>1266</td>\n",
       "    </tr>\n",
       "    <tr>\n",
       "      <th>1313</th>\n",
       "      <td>127</td>\n",
       "      <td>2019</td>\n",
       "      <td>-1.667506</td>\n",
       "      <td>0.611</td>\n",
       "      <td>-1.472527</td>\n",
       "      <td>0.718</td>\n",
       "      <td>0.074000</td>\n",
       "      <td>0.874</td>\n",
       "      <td>0.513</td>\n",
       "      <td>0.438</td>\n",
       "      <td>1520</td>\n",
       "    </tr>\n",
       "    <tr>\n",
       "      <th>759</th>\n",
       "      <td>95</td>\n",
       "      <td>2005</td>\n",
       "      <td>0.366123</td>\n",
       "      <td>0.903</td>\n",
       "      <td>0.399056</td>\n",
       "      <td>0.814</td>\n",
       "      <td>0.000343</td>\n",
       "      <td>0.764</td>\n",
       "      <td>0.820</td>\n",
       "      <td>0.219</td>\n",
       "      <td>1108</td>\n",
       "    </tr>\n",
       "  </tbody>\n",
       "</table>\n",
       "</div>"
      ],
      "text/plain": [
       "      Country name  year  Log GDP per capita  Social support  \\\n",
       "772            107  2014           -2.034411           0.753   \n",
       "786             97  2012           -0.181627           0.919   \n",
       "1358           107  2019           -1.965725           0.677   \n",
       "1313           127  2019           -1.667506           0.611   \n",
       "759             95  2005            0.366123           0.903   \n",
       "\n",
       "      Healthy life expectancy at birth  Freedom to make life choices  \\\n",
       "772                          -1.597299                         0.688   \n",
       "786                          -0.333302                         0.688   \n",
       "1358                         -1.255532                         0.831   \n",
       "1313                         -1.472527                         0.718   \n",
       "759                           0.399056                         0.814   \n",
       "\n",
       "      Generosity  Perceptions of corruption  Positive affect  Negative affect  \\\n",
       "772    -0.046000                      0.605            0.678            0.205   \n",
       "786     0.107000                      0.932            0.689            0.181   \n",
       "1358    0.026000                      0.729            0.816            0.304   \n",
       "1313    0.074000                      0.874            0.513            0.438   \n",
       "759     0.000343                      0.764            0.820            0.219   \n",
       "\n",
       "        ID  \n",
       "772   1261  \n",
       "786   1142  \n",
       "1358  1266  \n",
       "1313  1520  \n",
       "759   1108  "
      ]
     },
     "execution_count": 29,
     "metadata": {},
     "output_type": "execute_result"
    }
   ],
   "source": [
    "X_train.head()"
   ]
  },
  {
   "cell_type": "code",
   "execution_count": 30,
   "metadata": {},
   "outputs": [
    {
     "data": {
      "text/html": [
       "<div>\n",
       "<style scoped>\n",
       "    .dataframe tbody tr th:only-of-type {\n",
       "        vertical-align: middle;\n",
       "    }\n",
       "\n",
       "    .dataframe tbody tr th {\n",
       "        vertical-align: top;\n",
       "    }\n",
       "\n",
       "    .dataframe thead th {\n",
       "        text-align: right;\n",
       "    }\n",
       "</style>\n",
       "<table border=\"1\" class=\"dataframe\">\n",
       "  <thead>\n",
       "    <tr style=\"text-align: right;\">\n",
       "      <th></th>\n",
       "      <th>Country name</th>\n",
       "      <th>year</th>\n",
       "      <th>Log GDP per capita</th>\n",
       "      <th>Social support</th>\n",
       "      <th>Healthy life expectancy at birth</th>\n",
       "      <th>Freedom to make life choices</th>\n",
       "      <th>Generosity</th>\n",
       "      <th>Perceptions of corruption</th>\n",
       "      <th>Positive affect</th>\n",
       "      <th>Negative affect</th>\n",
       "      <th>ID</th>\n",
       "    </tr>\n",
       "  </thead>\n",
       "  <tbody>\n",
       "    <tr>\n",
       "      <th>276</th>\n",
       "      <td>39</td>\n",
       "      <td>2014</td>\n",
       "      <td>1.299905</td>\n",
       "      <td>0.956</td>\n",
       "      <td>1.088016</td>\n",
       "      <td>0.942000</td>\n",
       "      <td>0.118000</td>\n",
       "      <td>0.237000</td>\n",
       "      <td>0.832</td>\n",
       "      <td>0.233</td>\n",
       "      <td>457</td>\n",
       "    </tr>\n",
       "    <tr>\n",
       "      <th>875</th>\n",
       "      <td>2</td>\n",
       "      <td>2014</td>\n",
       "      <td>-0.027735</td>\n",
       "      <td>0.818</td>\n",
       "      <td>0.255297</td>\n",
       "      <td>0.741882</td>\n",
       "      <td>0.000343</td>\n",
       "      <td>0.748248</td>\n",
       "      <td>0.626</td>\n",
       "      <td>0.177</td>\n",
       "      <td>28</td>\n",
       "    </tr>\n",
       "    <tr>\n",
       "      <th>1021</th>\n",
       "      <td>59</td>\n",
       "      <td>2017</td>\n",
       "      <td>-0.645909</td>\n",
       "      <td>0.843</td>\n",
       "      <td>0.507554</td>\n",
       "      <td>0.898000</td>\n",
       "      <td>0.072000</td>\n",
       "      <td>0.783000</td>\n",
       "      <td>0.842</td>\n",
       "      <td>0.248</td>\n",
       "      <td>696</td>\n",
       "    </tr>\n",
       "    <tr>\n",
       "      <th>326</th>\n",
       "      <td>16</td>\n",
       "      <td>2007</td>\n",
       "      <td>-0.567659</td>\n",
       "      <td>0.796</td>\n",
       "      <td>-0.509611</td>\n",
       "      <td>0.780000</td>\n",
       "      <td>0.001000</td>\n",
       "      <td>0.817000</td>\n",
       "      <td>0.771</td>\n",
       "      <td>0.388</td>\n",
       "      <td>179</td>\n",
       "    </tr>\n",
       "    <tr>\n",
       "      <th>1312</th>\n",
       "      <td>38</td>\n",
       "      <td>2012</td>\n",
       "      <td>0.920828</td>\n",
       "      <td>0.912</td>\n",
       "      <td>0.694712</td>\n",
       "      <td>0.740000</td>\n",
       "      <td>-0.154000</td>\n",
       "      <td>0.957000</td>\n",
       "      <td>0.609</td>\n",
       "      <td>0.257</td>\n",
       "      <td>441</td>\n",
       "    </tr>\n",
       "  </tbody>\n",
       "</table>\n",
       "</div>"
      ],
      "text/plain": [
       "      Country name  year  Log GDP per capita  Social support  \\\n",
       "276             39  2014            1.299905           0.956   \n",
       "875              2  2014           -0.027735           0.818   \n",
       "1021            59  2017           -0.645909           0.843   \n",
       "326             16  2007           -0.567659           0.796   \n",
       "1312            38  2012            0.920828           0.912   \n",
       "\n",
       "      Healthy life expectancy at birth  Freedom to make life choices  \\\n",
       "276                           1.088016                      0.942000   \n",
       "875                           0.255297                      0.741882   \n",
       "1021                          0.507554                      0.898000   \n",
       "326                          -0.509611                      0.780000   \n",
       "1312                          0.694712                      0.740000   \n",
       "\n",
       "      Generosity  Perceptions of corruption  Positive affect  Negative affect  \\\n",
       "276     0.118000                   0.237000            0.832            0.233   \n",
       "875     0.000343                   0.748248            0.626            0.177   \n",
       "1021    0.072000                   0.783000            0.842            0.248   \n",
       "326     0.001000                   0.817000            0.771            0.388   \n",
       "1312   -0.154000                   0.957000            0.609            0.257   \n",
       "\n",
       "       ID  \n",
       "276   457  \n",
       "875    28  \n",
       "1021  696  \n",
       "326   179  \n",
       "1312  441  "
      ]
     },
     "execution_count": 30,
     "metadata": {},
     "output_type": "execute_result"
    }
   ],
   "source": [
    "X_test.head()"
   ]
  },
  {
   "cell_type": "code",
   "execution_count": 31,
   "metadata": {},
   "outputs": [],
   "source": [
    "from sklearn.linear_model import LinearRegression\n",
    "from sklearn.ensemble import RandomForestRegressor, GradientBoostingRegressor, ExtraTreesRegressor, AdaBoostRegressor\n",
    "from sklearn.tree import DecisionTreeRegressor\n",
    "from sklearn.neighbors import KNeighborsRegressor\n",
    "from sklearn.svm import SVR, SVC\n",
    "from xgboost import XGBRegressor"
   ]
  },
  {
   "cell_type": "code",
   "execution_count": 32,
   "metadata": {},
   "outputs": [],
   "source": [
    "lr= LinearRegression()\n",
    "d_tree = DecisionTreeRegressor(max_leaf_nodes=10, max_features= \"sqrt\", max_depth=12, min_samples_split=5, min_samples_leaf=4)\n",
    "rfr= RandomForestRegressor(n_estimators = 20, random_state = 4)\n",
    "knn = KNeighborsRegressor(n_neighbors = 3)\n",
    "svc = SVC(random_state=101)\n",
    "xgb = XGBRegressor(random_state=101)\n",
    "ab = AdaBoostRegressor(n_estimators=50, random_state=101)\n",
    "gb = GradientBoostingRegressor(random_state=101)"
   ]
  },
  {
   "cell_type": "code",
   "execution_count": 33,
   "metadata": {},
   "outputs": [
    {
     "name": "stdout",
     "output_type": "stream",
     "text": [
      "Linear Regression:  LinearRegression()\n",
      "Decision Tree:  DecisionTreeRegressor(max_depth=12, max_features='sqrt', max_leaf_nodes=10,\n",
      "                      min_samples_leaf=4, min_samples_split=5)\n",
      "Random Forest:  RandomForestRegressor(n_estimators=20, random_state=4)\n",
      "KNN:  KNeighborsRegressor(n_neighbors=3)\n",
      "XGB:  XGBRegressor(base_score=0.5, booster='gbtree', colsample_bylevel=1,\n",
      "             colsample_bynode=1, colsample_bytree=1, enable_categorical=False,\n",
      "             gamma=0, gpu_id=-1, importance_type=None,\n",
      "             interaction_constraints='', learning_rate=0.300000012,\n",
      "             max_delta_step=0, max_depth=6, min_child_weight=1, missing=nan,\n",
      "             monotone_constraints='()', n_estimators=100, n_jobs=2,\n",
      "             num_parallel_tree=1, predictor='auto', random_state=101,\n",
      "             reg_alpha=0, reg_lambda=1, scale_pos_weight=1, subsample=1,\n",
      "             tree_method='exact', validate_parameters=1, verbosity=None)\n",
      "AdaB:  AdaBoostRegressor(random_state=101)\n",
      "GB:  GradientBoostingRegressor(random_state=101)\n"
     ]
    }
   ],
   "source": [
    "print('Linear Regression: ', lr.fit(X_train, y_train))\n",
    "print('Decision Tree: ', d_tree.fit(X_train, y_train))\n",
    "print('Random Forest: ', rfr.fit(X_train, y_train))\n",
    "print('KNN: ', knn.fit(X_train, y_train))\n",
    "#print('SVC: ', svc.fit(X_train, y_train))\n",
    "print('XGB: ', xgb.fit(X_train, y_train))\n",
    "print('AdaB: ', ab.fit(X_train, y_train))\n",
    "print('GB: ', gb.fit(X_train, y_train))"
   ]
  },
  {
   "cell_type": "code",
   "execution_count": 34,
   "metadata": {},
   "outputs": [],
   "source": [
    "pred_lr = lr.predict(X_train)\n",
    "pred_dt = d_tree.predict(X_train)\n",
    "pred_rf = rfr.predict(X_train)\n",
    "pred_knn = knn.predict(X_train)\n",
    "pred_xgb = xgb.predict(X_train)\n",
    "pred_ab = ab.predict(X_train)\n",
    "pred_gb = gb.predict(X_train)"
   ]
  },
  {
   "cell_type": "markdown",
   "metadata": {},
   "source": [
    "## Training with Linear Regression"
   ]
  },
  {
   "cell_type": "code",
   "execution_count": 35,
   "metadata": {},
   "outputs": [],
   "source": [
    "from sklearn.metrics import r2_score\n",
    "from sklearn.metrics import mean_absolute_error\n",
    "from sklearn.metrics import mean_squared_error\n",
    "from math import sqrt"
   ]
  },
  {
   "cell_type": "code",
   "execution_count": 36,
   "metadata": {},
   "outputs": [],
   "source": [
    "r2_score_LR = r2_score(y_train, pred_lr)\n",
    "mse_score_LR = mean_squared_error(y_train, pred_lr)\n",
    "mae_score_LR = mean_absolute_error(y_train, pred_lr)\n",
    "rmse_LR = mean_squared_error(y_train, pred_lr, squared=False)"
   ]
  },
  {
   "cell_type": "code",
   "execution_count": 37,
   "metadata": {},
   "outputs": [
    {
     "name": "stdout",
     "output_type": "stream",
     "text": [
      "Linear Regression: \n",
      "R2 score:  0.7654511115906936\n",
      "MSE Score:  0.292092171822401\n",
      "MAE Score:  0.41988119802081453\n",
      "RMSE Score:  0.5404555225200321\n"
     ]
    }
   ],
   "source": [
    "print('Linear Regression: ')\n",
    "print('R2 score: ', r2_score_LR)\n",
    "print('MSE Score: ', mse_score_LR)\n",
    "print('MAE Score: ', mae_score_LR)\n",
    "print('RMSE Score: ', rmse_LR)"
   ]
  },
  {
   "cell_type": "markdown",
   "metadata": {},
   "source": [
    "## Training with Decision Tree"
   ]
  },
  {
   "cell_type": "code",
   "execution_count": 38,
   "metadata": {},
   "outputs": [],
   "source": [
    "r2_score_DT = r2_score(y_train, pred_dt)\n",
    "mse_score_DT = mean_squared_error(y_train, pred_dt)\n",
    "mae_score_DT = mean_absolute_error(y_train, pred_dt)\n",
    "rmse_DT = mean_squared_error(y_train, pred_dt, squared=False)"
   ]
  },
  {
   "cell_type": "code",
   "execution_count": 39,
   "metadata": {},
   "outputs": [
    {
     "name": "stdout",
     "output_type": "stream",
     "text": [
      "Decision Tree: \n",
      "R2 score:  0.7598961885037826\n",
      "MSE Score:  0.29900991745644023\n",
      "MAE Score:  0.43642653249566965\n",
      "RMSE Score:  0.5468179929889289\n"
     ]
    }
   ],
   "source": [
    "print('Decision Tree: ')\n",
    "print('R2 score: ', r2_score_DT)\n",
    "print('MSE Score: ', mse_score_DT)\n",
    "print('MAE Score: ', mae_score_DT)\n",
    "print('RMSE Score: ', rmse_DT)"
   ]
  },
  {
   "cell_type": "markdown",
   "metadata": {},
   "source": [
    "## Training with Random Forest"
   ]
  },
  {
   "cell_type": "code",
   "execution_count": 40,
   "metadata": {},
   "outputs": [],
   "source": [
    "r2_score_RF = r2_score(y_train, pred_rf)\n",
    "mse_score_RF = mean_squared_error(y_train, pred_rf)\n",
    "mae_score_RF = mean_absolute_error(y_train, pred_rf)\n",
    "rmse_RF = mean_squared_error(y_train, pred_rf, squared=False)"
   ]
  },
  {
   "cell_type": "code",
   "execution_count": 41,
   "metadata": {},
   "outputs": [
    {
     "name": "stdout",
     "output_type": "stream",
     "text": [
      "Random Forest: \n",
      "R2 score:  0.9786771984909312\n",
      "MSE Score:  0.026554052097032883\n",
      "MAE Score:  0.11805797914995995\n",
      "RMSE Score:  0.16295414108586773\n"
     ]
    }
   ],
   "source": [
    "print('Random Forest: ')\n",
    "print('R2 score: ', r2_score_RF)\n",
    "print('MSE Score: ', mse_score_RF)\n",
    "print('MAE Score: ', mae_score_RF)\n",
    "print('RMSE Score: ', rmse_RF)"
   ]
  },
  {
   "cell_type": "markdown",
   "metadata": {},
   "source": [
    "## Training with KNN"
   ]
  },
  {
   "cell_type": "code",
   "execution_count": 42,
   "metadata": {},
   "outputs": [],
   "source": [
    "r2_score_KNN = r2_score(y_train, pred_knn)\n",
    "mse_score_KNN = mean_squared_error(y_train, pred_knn)\n",
    "mae_score_KNN = mean_absolute_error(y_train, pred_knn)\n",
    "rmse_KNN = mean_squared_error(y_train, pred_knn, squared=False)"
   ]
  },
  {
   "cell_type": "code",
   "execution_count": 43,
   "metadata": {},
   "outputs": [
    {
     "name": "stdout",
     "output_type": "stream",
     "text": [
      "KNN: \n",
      "R2 score:  0.9425440640828974\n",
      "MSE Score:  0.07155194475630404\n",
      "MAE Score:  0.1833675487837477\n",
      "RMSE Score:  0.26749195269447645\n"
     ]
    }
   ],
   "source": [
    "print('KNN: ')\n",
    "print('R2 score: ', r2_score_KNN)\n",
    "print('MSE Score: ', mse_score_KNN)\n",
    "print('MAE Score: ', mae_score_KNN)\n",
    "print('RMSE Score: ', rmse_KNN)"
   ]
  },
  {
   "cell_type": "markdown",
   "metadata": {},
   "source": [
    "## Training with XG Booster"
   ]
  },
  {
   "cell_type": "code",
   "execution_count": 44,
   "metadata": {},
   "outputs": [],
   "source": [
    "r2_score_XGB = r2_score(y_train, pred_xgb)\n",
    "mse_score_XGB = mean_squared_error(y_train, pred_xgb)\n",
    "mae_score_XGB = mean_absolute_error(y_train, pred_xgb)\n",
    "rmse_XGB = mean_squared_error(y_train, pred_xgb, squared=False)"
   ]
  },
  {
   "cell_type": "code",
   "execution_count": 45,
   "metadata": {},
   "outputs": [
    {
     "name": "stdout",
     "output_type": "stream",
     "text": [
      "XG Booster: \n",
      "R2 score:  0.9989712545439843\n",
      "MSE Score:  0.001281133739485886\n",
      "MAE Score:  0.02506761607802573\n",
      "RMSE Score:  0.035792928624043686\n"
     ]
    }
   ],
   "source": [
    "print('XG Booster: ')\n",
    "print('R2 score: ', r2_score_XGB)\n",
    "print('MSE Score: ', mse_score_XGB)\n",
    "print('MAE Score: ', mae_score_XGB)\n",
    "print('RMSE Score: ', rmse_XGB)"
   ]
  },
  {
   "cell_type": "markdown",
   "metadata": {},
   "source": [
    "## Treaining with ADA Booster"
   ]
  },
  {
   "cell_type": "code",
   "execution_count": 46,
   "metadata": {},
   "outputs": [],
   "source": [
    "r2_score_ADAB = r2_score(y_train, pred_ab)\n",
    "mse_score_ADAB = mean_squared_error(y_train, pred_ab)\n",
    "mae_score_ADAB = mean_absolute_error(y_train, pred_ab)\n",
    "rmse_ADAB = mean_squared_error(y_train, pred_ab, squared=False)"
   ]
  },
  {
   "cell_type": "code",
   "execution_count": 47,
   "metadata": {},
   "outputs": [
    {
     "name": "stdout",
     "output_type": "stream",
     "text": [
      "ADA Booster: \n",
      "R2 score:  0.8227577690798955\n",
      "MSE Score:  0.22072612886468346\n",
      "MAE Score:  0.3888311495965862\n",
      "RMSE Score:  0.4698149942952901\n"
     ]
    }
   ],
   "source": [
    "print('ADA Booster: ')\n",
    "print('R2 score: ', r2_score_ADAB)\n",
    "print('MSE Score: ', mse_score_ADAB)\n",
    "print('MAE Score: ', mae_score_ADAB)\n",
    "print('RMSE Score: ', rmse_ADAB)"
   ]
  },
  {
   "cell_type": "markdown",
   "metadata": {},
   "source": [
    "## Training with Gradient Booster"
   ]
  },
  {
   "cell_type": "code",
   "execution_count": 48,
   "metadata": {},
   "outputs": [],
   "source": [
    "r2_score_GB = r2_score(y_train, pred_gb)\n",
    "mse_score_GB = mean_squared_error(y_train, pred_gb)\n",
    "mae_score_GB = mean_absolute_error(y_train, pred_gb)\n",
    "rmse_GB = mean_squared_error(y_train, pred_gb, squared=False)"
   ]
  },
  {
   "cell_type": "code",
   "execution_count": 49,
   "metadata": {},
   "outputs": [
    {
     "name": "stdout",
     "output_type": "stream",
     "text": [
      "Gradient Booster: \n",
      "R2 score:  0.9036583969268301\n",
      "MSE Score:  0.11997766550650305\n",
      "MAE Score:  0.26833186635158485\n",
      "RMSE Score:  0.3463779229490573\n"
     ]
    }
   ],
   "source": [
    "print('Gradient Booster: ')\n",
    "print('R2 score: ', r2_score_GB)\n",
    "print('MSE Score: ', mse_score_GB)\n",
    "print('MAE Score: ', mae_score_GB)\n",
    "print('RMSE Score: ', rmse_GB)"
   ]
  },
  {
   "cell_type": "markdown",
   "metadata": {},
   "source": [
    "## Working on Test Dataset"
   ]
  },
  {
   "cell_type": "code",
   "execution_count": 50,
   "metadata": {},
   "outputs": [],
   "source": [
    "test_data = pd.read_csv(r'C:\\Users\\Mugdha\\Music\\GCDAI_9th May 2021\\World_Happiness_Report\\test_data.csv')"
   ]
  },
  {
   "cell_type": "code",
   "execution_count": 51,
   "metadata": {},
   "outputs": [
    {
     "name": "stdout",
     "output_type": "stream",
     "text": [
      "Shape of the Test dataset:  (390, 11)\n"
     ]
    },
    {
     "data": {
      "text/html": [
       "<div>\n",
       "<style scoped>\n",
       "    .dataframe tbody tr th:only-of-type {\n",
       "        vertical-align: middle;\n",
       "    }\n",
       "\n",
       "    .dataframe tbody tr th {\n",
       "        vertical-align: top;\n",
       "    }\n",
       "\n",
       "    .dataframe thead th {\n",
       "        text-align: right;\n",
       "    }\n",
       "</style>\n",
       "<table border=\"1\" class=\"dataframe\">\n",
       "  <thead>\n",
       "    <tr style=\"text-align: right;\">\n",
       "      <th></th>\n",
       "      <th>Country name</th>\n",
       "      <th>year</th>\n",
       "      <th>Log GDP per capita</th>\n",
       "      <th>Social support</th>\n",
       "      <th>Healthy life expectancy at birth</th>\n",
       "      <th>Freedom to make life choices</th>\n",
       "      <th>Generosity</th>\n",
       "      <th>Perceptions of corruption</th>\n",
       "      <th>Positive affect</th>\n",
       "      <th>Negative affect</th>\n",
       "      <th>ID</th>\n",
       "    </tr>\n",
       "  </thead>\n",
       "  <tbody>\n",
       "    <tr>\n",
       "      <th>0</th>\n",
       "      <td>Spain</td>\n",
       "      <td>2020</td>\n",
       "      <td>10.488</td>\n",
       "      <td>0.935</td>\n",
       "      <td>75.00</td>\n",
       "      <td>0.783</td>\n",
       "      <td>-0.121</td>\n",
       "      <td>0.730</td>\n",
       "      <td>0.686</td>\n",
       "      <td>0.317</td>\n",
       "      <td>1614</td>\n",
       "    </tr>\n",
       "    <tr>\n",
       "      <th>1</th>\n",
       "      <td>Poland</td>\n",
       "      <td>2017</td>\n",
       "      <td>10.314</td>\n",
       "      <td>0.882</td>\n",
       "      <td>68.90</td>\n",
       "      <td>0.831</td>\n",
       "      <td>-0.122</td>\n",
       "      <td>0.639</td>\n",
       "      <td>0.677</td>\n",
       "      <td>0.203</td>\n",
       "      <td>1405</td>\n",
       "    </tr>\n",
       "    <tr>\n",
       "      <th>2</th>\n",
       "      <td>Lebanon</td>\n",
       "      <td>2012</td>\n",
       "      <td>9.800</td>\n",
       "      <td>0.713</td>\n",
       "      <td>65.36</td>\n",
       "      <td>0.621</td>\n",
       "      <td>-0.006</td>\n",
       "      <td>0.856</td>\n",
       "      <td>0.499</td>\n",
       "      <td>0.339</td>\n",
       "      <td>974</td>\n",
       "    </tr>\n",
       "    <tr>\n",
       "      <th>3</th>\n",
       "      <td>Malaysia</td>\n",
       "      <td>2011</td>\n",
       "      <td>9.966</td>\n",
       "      <td>0.770</td>\n",
       "      <td>65.76</td>\n",
       "      <td>0.840</td>\n",
       "      <td>-0.016</td>\n",
       "      <td>0.842</td>\n",
       "      <td>0.887</td>\n",
       "      <td>0.155</td>\n",
       "      <td>1055</td>\n",
       "    </tr>\n",
       "    <tr>\n",
       "      <th>4</th>\n",
       "      <td>Canada</td>\n",
       "      <td>2020</td>\n",
       "      <td>10.730</td>\n",
       "      <td>0.931</td>\n",
       "      <td>74.00</td>\n",
       "      <td>0.887</td>\n",
       "      <td>0.050</td>\n",
       "      <td>0.434</td>\n",
       "      <td>0.796</td>\n",
       "      <td>0.307</td>\n",
       "      <td>307</td>\n",
       "    </tr>\n",
       "    <tr>\n",
       "      <th>...</th>\n",
       "      <td>...</td>\n",
       "      <td>...</td>\n",
       "      <td>...</td>\n",
       "      <td>...</td>\n",
       "      <td>...</td>\n",
       "      <td>...</td>\n",
       "      <td>...</td>\n",
       "      <td>...</td>\n",
       "      <td>...</td>\n",
       "      <td>...</td>\n",
       "      <td>...</td>\n",
       "    </tr>\n",
       "    <tr>\n",
       "      <th>385</th>\n",
       "      <td>Germany</td>\n",
       "      <td>2018</td>\n",
       "      <td>10.890</td>\n",
       "      <td>0.920</td>\n",
       "      <td>72.20</td>\n",
       "      <td>0.877</td>\n",
       "      <td>0.034</td>\n",
       "      <td>0.496</td>\n",
       "      <td>0.780</td>\n",
       "      <td>0.243</td>\n",
       "      <td>618</td>\n",
       "    </tr>\n",
       "    <tr>\n",
       "      <th>386</th>\n",
       "      <td>Cyprus</td>\n",
       "      <td>2010</td>\n",
       "      <td>10.551</td>\n",
       "      <td>0.822</td>\n",
       "      <td>72.40</td>\n",
       "      <td>0.755</td>\n",
       "      <td>0.073</td>\n",
       "      <td>0.833</td>\n",
       "      <td>0.786</td>\n",
       "      <td>0.296</td>\n",
       "      <td>426</td>\n",
       "    </tr>\n",
       "    <tr>\n",
       "      <th>387</th>\n",
       "      <td>Latvia</td>\n",
       "      <td>2019</td>\n",
       "      <td>10.336</td>\n",
       "      <td>0.936</td>\n",
       "      <td>67.10</td>\n",
       "      <td>0.698</td>\n",
       "      <td>-0.194</td>\n",
       "      <td>0.789</td>\n",
       "      <td>0.575</td>\n",
       "      <td>0.212</td>\n",
       "      <td>966</td>\n",
       "    </tr>\n",
       "    <tr>\n",
       "      <th>388</th>\n",
       "      <td>Japan</td>\n",
       "      <td>2010</td>\n",
       "      <td>10.532</td>\n",
       "      <td>0.902</td>\n",
       "      <td>73.80</td>\n",
       "      <td>0.772</td>\n",
       "      <td>-0.140</td>\n",
       "      <td>0.770</td>\n",
       "      <td>0.827</td>\n",
       "      <td>0.188</td>\n",
       "      <td>849</td>\n",
       "    </tr>\n",
       "    <tr>\n",
       "      <th>389</th>\n",
       "      <td>Spain</td>\n",
       "      <td>2005</td>\n",
       "      <td>10.546</td>\n",
       "      <td>0.961</td>\n",
       "      <td>71.50</td>\n",
       "      <td>0.916</td>\n",
       "      <td>NaN</td>\n",
       "      <td>0.777</td>\n",
       "      <td>0.776</td>\n",
       "      <td>0.241</td>\n",
       "      <td>1600</td>\n",
       "    </tr>\n",
       "  </tbody>\n",
       "</table>\n",
       "<p>390 rows × 11 columns</p>\n",
       "</div>"
      ],
      "text/plain": [
       "    Country name  year  Log GDP per capita  Social support  \\\n",
       "0          Spain  2020              10.488           0.935   \n",
       "1         Poland  2017              10.314           0.882   \n",
       "2        Lebanon  2012               9.800           0.713   \n",
       "3       Malaysia  2011               9.966           0.770   \n",
       "4         Canada  2020              10.730           0.931   \n",
       "..           ...   ...                 ...             ...   \n",
       "385      Germany  2018              10.890           0.920   \n",
       "386       Cyprus  2010              10.551           0.822   \n",
       "387       Latvia  2019              10.336           0.936   \n",
       "388        Japan  2010              10.532           0.902   \n",
       "389        Spain  2005              10.546           0.961   \n",
       "\n",
       "     Healthy life expectancy at birth  Freedom to make life choices  \\\n",
       "0                               75.00                         0.783   \n",
       "1                               68.90                         0.831   \n",
       "2                               65.36                         0.621   \n",
       "3                               65.76                         0.840   \n",
       "4                               74.00                         0.887   \n",
       "..                                ...                           ...   \n",
       "385                             72.20                         0.877   \n",
       "386                             72.40                         0.755   \n",
       "387                             67.10                         0.698   \n",
       "388                             73.80                         0.772   \n",
       "389                             71.50                         0.916   \n",
       "\n",
       "     Generosity  Perceptions of corruption  Positive affect  Negative affect  \\\n",
       "0        -0.121                      0.730            0.686            0.317   \n",
       "1        -0.122                      0.639            0.677            0.203   \n",
       "2        -0.006                      0.856            0.499            0.339   \n",
       "3        -0.016                      0.842            0.887            0.155   \n",
       "4         0.050                      0.434            0.796            0.307   \n",
       "..          ...                        ...              ...              ...   \n",
       "385       0.034                      0.496            0.780            0.243   \n",
       "386       0.073                      0.833            0.786            0.296   \n",
       "387      -0.194                      0.789            0.575            0.212   \n",
       "388      -0.140                      0.770            0.827            0.188   \n",
       "389         NaN                      0.777            0.776            0.241   \n",
       "\n",
       "       ID  \n",
       "0    1614  \n",
       "1    1405  \n",
       "2     974  \n",
       "3    1055  \n",
       "4     307  \n",
       "..    ...  \n",
       "385   618  \n",
       "386   426  \n",
       "387   966  \n",
       "388   849  \n",
       "389  1600  \n",
       "\n",
       "[390 rows x 11 columns]"
      ]
     },
     "execution_count": 51,
     "metadata": {},
     "output_type": "execute_result"
    }
   ],
   "source": [
    "print('Shape of the Test dataset: ', test_data.shape)\n",
    "test_data"
   ]
  },
  {
   "cell_type": "code",
   "execution_count": 52,
   "metadata": {},
   "outputs": [
    {
     "name": "stdout",
     "output_type": "stream",
     "text": [
      "<class 'pandas.core.frame.DataFrame'>\n",
      "RangeIndex: 390 entries, 0 to 389\n",
      "Data columns (total 11 columns):\n",
      " #   Column                            Non-Null Count  Dtype  \n",
      "---  ------                            --------------  -----  \n",
      " 0   Country name                      390 non-null    object \n",
      " 1   year                              390 non-null    int64  \n",
      " 2   Log GDP per capita                380 non-null    float64\n",
      " 3   Social support                    387 non-null    float64\n",
      " 4   Healthy life expectancy at birth  372 non-null    float64\n",
      " 5   Freedom to make life choices      380 non-null    float64\n",
      " 6   Generosity                        372 non-null    float64\n",
      " 7   Perceptions of corruption         366 non-null    float64\n",
      " 8   Positive affect                   385 non-null    float64\n",
      " 9   Negative affect                   388 non-null    float64\n",
      " 10  ID                                390 non-null    int64  \n",
      "dtypes: float64(8), int64(2), object(1)\n",
      "memory usage: 33.6+ KB\n"
     ]
    }
   ],
   "source": [
    "test_data.info()"
   ]
  },
  {
   "cell_type": "code",
   "execution_count": 53,
   "metadata": {},
   "outputs": [
    {
     "data": {
      "text/plain": [
       "Country name                         0\n",
       "year                                 0\n",
       "Log GDP per capita                  10\n",
       "Social support                       3\n",
       "Healthy life expectancy at birth    18\n",
       "Freedom to make life choices        10\n",
       "Generosity                          18\n",
       "Perceptions of corruption           24\n",
       "Positive affect                      5\n",
       "Negative affect                      2\n",
       "ID                                   0\n",
       "dtype: int64"
      ]
     },
     "execution_count": 53,
     "metadata": {},
     "output_type": "execute_result"
    }
   ],
   "source": [
    "test_data.isnull().sum()"
   ]
  },
  {
   "cell_type": "code",
   "execution_count": 54,
   "metadata": {},
   "outputs": [
    {
     "name": "stdout",
     "output_type": "stream",
     "text": [
      "Duplicated values in the test dataset:  False\n"
     ]
    }
   ],
   "source": [
    "print('Duplicated values in the test dataset: ', test_data.duplicated().any())"
   ]
  },
  {
   "cell_type": "code",
   "execution_count": 55,
   "metadata": {},
   "outputs": [
    {
     "data": {
      "text/plain": [
       "Index(['Country name', 'year', 'Log GDP per capita', 'Social support',\n",
       "       'Healthy life expectancy at birth', 'Freedom to make life choices',\n",
       "       'Generosity', 'Perceptions of corruption', 'Positive affect',\n",
       "       'Negative affect', 'ID'],\n",
       "      dtype='object')"
      ]
     },
     "execution_count": 55,
     "metadata": {},
     "output_type": "execute_result"
    }
   ],
   "source": [
    "test_data.columns"
   ]
  },
  {
   "cell_type": "markdown",
   "metadata": {},
   "source": [
    "## Label Encoding (Handling Categorical Data) "
   ]
  },
  {
   "cell_type": "code",
   "execution_count": 56,
   "metadata": {},
   "outputs": [],
   "source": [
    "df_num1 = test_data.select_dtypes(include = ['int64','float64'])\n",
    "df_cat1 = test_data.drop(df_num1, axis = 1)"
   ]
  },
  {
   "cell_type": "code",
   "execution_count": 57,
   "metadata": {},
   "outputs": [],
   "source": [
    "df_cat1 = df_cat1.apply(le.fit_transform)"
   ]
  },
  {
   "cell_type": "code",
   "execution_count": 58,
   "metadata": {},
   "outputs": [],
   "source": [
    "test_data = pd.concat([df_num1, df_cat1], axis = 1)"
   ]
  },
  {
   "cell_type": "code",
   "execution_count": 59,
   "metadata": {},
   "outputs": [],
   "source": [
    "test_data = test_data[['Country name','year','Log GDP per capita','Social support','Healthy life expectancy at birth',\n",
    "            'Freedom to make life choices','Generosity','Perceptions of corruption','Positive affect',\n",
    "            'Negative affect','ID']]"
   ]
  },
  {
   "cell_type": "code",
   "execution_count": 60,
   "metadata": {},
   "outputs": [
    {
     "data": {
      "text/html": [
       "<div>\n",
       "<style scoped>\n",
       "    .dataframe tbody tr th:only-of-type {\n",
       "        vertical-align: middle;\n",
       "    }\n",
       "\n",
       "    .dataframe tbody tr th {\n",
       "        vertical-align: top;\n",
       "    }\n",
       "\n",
       "    .dataframe thead th {\n",
       "        text-align: right;\n",
       "    }\n",
       "</style>\n",
       "<table border=\"1\" class=\"dataframe\">\n",
       "  <thead>\n",
       "    <tr style=\"text-align: right;\">\n",
       "      <th></th>\n",
       "      <th>Country name</th>\n",
       "      <th>year</th>\n",
       "      <th>Log GDP per capita</th>\n",
       "      <th>Social support</th>\n",
       "      <th>Healthy life expectancy at birth</th>\n",
       "      <th>Freedom to make life choices</th>\n",
       "      <th>Generosity</th>\n",
       "      <th>Perceptions of corruption</th>\n",
       "      <th>Positive affect</th>\n",
       "      <th>Negative affect</th>\n",
       "      <th>ID</th>\n",
       "    </tr>\n",
       "  </thead>\n",
       "  <tbody>\n",
       "    <tr>\n",
       "      <th>0</th>\n",
       "      <td>114</td>\n",
       "      <td>2020</td>\n",
       "      <td>10.488</td>\n",
       "      <td>0.935</td>\n",
       "      <td>75.00</td>\n",
       "      <td>0.783</td>\n",
       "      <td>-0.121</td>\n",
       "      <td>0.730</td>\n",
       "      <td>0.686</td>\n",
       "      <td>0.317</td>\n",
       "      <td>1614</td>\n",
       "    </tr>\n",
       "    <tr>\n",
       "      <th>1</th>\n",
       "      <td>98</td>\n",
       "      <td>2017</td>\n",
       "      <td>10.314</td>\n",
       "      <td>0.882</td>\n",
       "      <td>68.90</td>\n",
       "      <td>0.831</td>\n",
       "      <td>-0.122</td>\n",
       "      <td>0.639</td>\n",
       "      <td>0.677</td>\n",
       "      <td>0.203</td>\n",
       "      <td>1405</td>\n",
       "    </tr>\n",
       "    <tr>\n",
       "      <th>2</th>\n",
       "      <td>67</td>\n",
       "      <td>2012</td>\n",
       "      <td>9.800</td>\n",
       "      <td>0.713</td>\n",
       "      <td>65.36</td>\n",
       "      <td>0.621</td>\n",
       "      <td>-0.006</td>\n",
       "      <td>0.856</td>\n",
       "      <td>0.499</td>\n",
       "      <td>0.339</td>\n",
       "      <td>974</td>\n",
       "    </tr>\n",
       "    <tr>\n",
       "      <th>3</th>\n",
       "      <td>74</td>\n",
       "      <td>2011</td>\n",
       "      <td>9.966</td>\n",
       "      <td>0.770</td>\n",
       "      <td>65.76</td>\n",
       "      <td>0.840</td>\n",
       "      <td>-0.016</td>\n",
       "      <td>0.842</td>\n",
       "      <td>0.887</td>\n",
       "      <td>0.155</td>\n",
       "      <td>1055</td>\n",
       "    </tr>\n",
       "    <tr>\n",
       "      <th>4</th>\n",
       "      <td>20</td>\n",
       "      <td>2020</td>\n",
       "      <td>10.730</td>\n",
       "      <td>0.931</td>\n",
       "      <td>74.00</td>\n",
       "      <td>0.887</td>\n",
       "      <td>0.050</td>\n",
       "      <td>0.434</td>\n",
       "      <td>0.796</td>\n",
       "      <td>0.307</td>\n",
       "      <td>307</td>\n",
       "    </tr>\n",
       "  </tbody>\n",
       "</table>\n",
       "</div>"
      ],
      "text/plain": [
       "   Country name  year  Log GDP per capita  Social support  \\\n",
       "0           114  2020              10.488           0.935   \n",
       "1            98  2017              10.314           0.882   \n",
       "2            67  2012               9.800           0.713   \n",
       "3            74  2011               9.966           0.770   \n",
       "4            20  2020              10.730           0.931   \n",
       "\n",
       "   Healthy life expectancy at birth  Freedom to make life choices  Generosity  \\\n",
       "0                             75.00                         0.783      -0.121   \n",
       "1                             68.90                         0.831      -0.122   \n",
       "2                             65.36                         0.621      -0.006   \n",
       "3                             65.76                         0.840      -0.016   \n",
       "4                             74.00                         0.887       0.050   \n",
       "\n",
       "   Perceptions of corruption  Positive affect  Negative affect    ID  \n",
       "0                      0.730            0.686            0.317  1614  \n",
       "1                      0.639            0.677            0.203  1405  \n",
       "2                      0.856            0.499            0.339   974  \n",
       "3                      0.842            0.887            0.155  1055  \n",
       "4                      0.434            0.796            0.307   307  "
      ]
     },
     "execution_count": 60,
     "metadata": {},
     "output_type": "execute_result"
    }
   ],
   "source": [
    "test_data.head()"
   ]
  },
  {
   "cell_type": "markdown",
   "metadata": {},
   "source": [
    "## Scaling"
   ]
  },
  {
   "cell_type": "code",
   "execution_count": 61,
   "metadata": {},
   "outputs": [
    {
     "data": {
      "text/html": [
       "<div>\n",
       "<style scoped>\n",
       "    .dataframe tbody tr th:only-of-type {\n",
       "        vertical-align: middle;\n",
       "    }\n",
       "\n",
       "    .dataframe tbody tr th {\n",
       "        vertical-align: top;\n",
       "    }\n",
       "\n",
       "    .dataframe thead th {\n",
       "        text-align: right;\n",
       "    }\n",
       "</style>\n",
       "<table border=\"1\" class=\"dataframe\">\n",
       "  <thead>\n",
       "    <tr style=\"text-align: right;\">\n",
       "      <th></th>\n",
       "      <th>Country name</th>\n",
       "      <th>year</th>\n",
       "      <th>Log GDP per capita</th>\n",
       "      <th>Social support</th>\n",
       "      <th>Healthy life expectancy at birth</th>\n",
       "      <th>Freedom to make life choices</th>\n",
       "      <th>Generosity</th>\n",
       "      <th>Perceptions of corruption</th>\n",
       "      <th>Positive affect</th>\n",
       "      <th>Negative affect</th>\n",
       "      <th>ID</th>\n",
       "    </tr>\n",
       "  </thead>\n",
       "  <tbody>\n",
       "    <tr>\n",
       "      <th>0</th>\n",
       "      <td>114</td>\n",
       "      <td>2020</td>\n",
       "      <td>0.972421</td>\n",
       "      <td>0.935</td>\n",
       "      <td>1.509129</td>\n",
       "      <td>0.783</td>\n",
       "      <td>-0.121</td>\n",
       "      <td>0.730</td>\n",
       "      <td>0.686</td>\n",
       "      <td>0.317</td>\n",
       "      <td>1614</td>\n",
       "    </tr>\n",
       "    <tr>\n",
       "      <th>1</th>\n",
       "      <td>98</td>\n",
       "      <td>2017</td>\n",
       "      <td>0.818256</td>\n",
       "      <td>0.882</td>\n",
       "      <td>0.710532</td>\n",
       "      <td>0.831</td>\n",
       "      <td>-0.122</td>\n",
       "      <td>0.639</td>\n",
       "      <td>0.677</td>\n",
       "      <td>0.203</td>\n",
       "      <td>1405</td>\n",
       "    </tr>\n",
       "    <tr>\n",
       "      <th>2</th>\n",
       "      <td>67</td>\n",
       "      <td>2012</td>\n",
       "      <td>0.362848</td>\n",
       "      <td>0.713</td>\n",
       "      <td>0.247083</td>\n",
       "      <td>0.621</td>\n",
       "      <td>-0.006</td>\n",
       "      <td>0.856</td>\n",
       "      <td>0.499</td>\n",
       "      <td>0.339</td>\n",
       "      <td>974</td>\n",
       "    </tr>\n",
       "    <tr>\n",
       "      <th>3</th>\n",
       "      <td>74</td>\n",
       "      <td>2011</td>\n",
       "      <td>0.509925</td>\n",
       "      <td>0.770</td>\n",
       "      <td>0.299450</td>\n",
       "      <td>0.840</td>\n",
       "      <td>-0.016</td>\n",
       "      <td>0.842</td>\n",
       "      <td>0.887</td>\n",
       "      <td>0.155</td>\n",
       "      <td>1055</td>\n",
       "    </tr>\n",
       "    <tr>\n",
       "      <th>4</th>\n",
       "      <td>20</td>\n",
       "      <td>2020</td>\n",
       "      <td>1.186835</td>\n",
       "      <td>0.931</td>\n",
       "      <td>1.378211</td>\n",
       "      <td>0.887</td>\n",
       "      <td>0.050</td>\n",
       "      <td>0.434</td>\n",
       "      <td>0.796</td>\n",
       "      <td>0.307</td>\n",
       "      <td>307</td>\n",
       "    </tr>\n",
       "  </tbody>\n",
       "</table>\n",
       "</div>"
      ],
      "text/plain": [
       "   Country name  year  Log GDP per capita  Social support  \\\n",
       "0           114  2020            0.972421           0.935   \n",
       "1            98  2017            0.818256           0.882   \n",
       "2            67  2012            0.362848           0.713   \n",
       "3            74  2011            0.509925           0.770   \n",
       "4            20  2020            1.186835           0.931   \n",
       "\n",
       "   Healthy life expectancy at birth  Freedom to make life choices  Generosity  \\\n",
       "0                          1.509129                         0.783      -0.121   \n",
       "1                          0.710532                         0.831      -0.122   \n",
       "2                          0.247083                         0.621      -0.006   \n",
       "3                          0.299450                         0.840      -0.016   \n",
       "4                          1.378211                         0.887       0.050   \n",
       "\n",
       "   Perceptions of corruption  Positive affect  Negative affect    ID  \n",
       "0                      0.730            0.686            0.317  1614  \n",
       "1                      0.639            0.677            0.203  1405  \n",
       "2                      0.856            0.499            0.339   974  \n",
       "3                      0.842            0.887            0.155  1055  \n",
       "4                      0.434            0.796            0.307   307  "
      ]
     },
     "execution_count": 61,
     "metadata": {},
     "output_type": "execute_result"
    }
   ],
   "source": [
    "test_data[numeric_features]= sc.fit_transform(test_data[numeric_features])\n",
    "test_data.head()"
   ]
  },
  {
   "cell_type": "markdown",
   "metadata": {},
   "source": [
    "## Predicting World Happiness "
   ]
  },
  {
   "cell_type": "code",
   "execution_count": 65,
   "metadata": {},
   "outputs": [],
   "source": [
    "y_pred_test_final = xgb.predict(test_data)"
   ]
  },
  {
   "cell_type": "code",
   "execution_count": 68,
   "metadata": {},
   "outputs": [],
   "source": [
    "# y_pred_final = rfr.predict(test_data)"
   ]
  },
  {
   "cell_type": "code",
   "execution_count": 66,
   "metadata": {},
   "outputs": [
    {
     "data": {
      "text/plain": [
       "array([6.211185 , 6.000019 , 4.8839993, 6.3775945, 7.1965275, 6.049813 ,\n",
       "       4.538325 , 4.7797017, 4.600618 , 7.512399 , 5.828066 , 6.268019 ,\n",
       "       3.7809722, 4.1359253, 6.7822094, 5.848121 , 7.3778596, 6.213291 ,\n",
       "       6.435823 , 5.5626335, 7.297524 , 4.8437076, 6.344574 , 6.2570653,\n",
       "       4.7817864, 4.525803 , 3.9950957, 5.2631917, 6.3776813, 4.382309 ,\n",
       "       4.720641 , 6.1057463, 5.101462 , 4.599244 , 4.211597 , 3.7399378,\n",
       "       6.323859 , 7.3802896, 4.8480325, 5.1174335, 4.17375  , 6.730827 ,\n",
       "       7.4580255, 6.1069307, 4.6422334, 4.208379 , 6.2836967, 5.354915 ,\n",
       "       5.527008 , 4.586752 , 6.5114303, 3.6764557, 7.587462 , 5.413289 ,\n",
       "       4.1220627, 6.0621834, 5.180744 , 6.6584425, 5.6060543, 4.200234 ,\n",
       "       4.1944757, 6.181574 , 4.7457886, 6.3535776, 5.683486 , 7.743167 ,\n",
       "       5.569185 , 4.429838 , 3.773389 , 4.871908 , 5.6815724, 5.124727 ,\n",
       "       4.227335 , 4.503575 , 4.217588 , 4.7772245, 5.011283 , 6.3331184,\n",
       "       5.2731123, 4.751121 , 6.8140616, 4.2736692, 4.4465785, 5.2159433,\n",
       "       5.760758 , 4.357825 , 5.7464976, 5.8084545, 5.9086866, 6.762954 ,\n",
       "       4.5733232, 5.5124617, 5.426363 , 5.7641096, 5.170104 , 3.760766 ,\n",
       "       4.7975807, 4.1482787, 5.283744 , 4.930823 , 4.3447185, 4.1943145,\n",
       "       4.424166 , 4.305172 , 6.856516 , 5.0986376, 7.505995 , 5.140952 ,\n",
       "       4.4556994, 5.613266 , 7.431331 , 4.4152107, 3.6204362, 7.3719277,\n",
       "       4.4639926, 6.2052045, 6.853634 , 3.9294086, 5.7126226, 6.0291843,\n",
       "       5.3724623, 4.659408 , 4.4993453, 5.745898 , 6.6072154, 4.6345596,\n",
       "       6.1732388, 7.5471835, 4.6534543, 4.870725 , 5.588234 , 5.930718 ,\n",
       "       5.973327 , 5.253878 , 5.1760054, 4.5220838, 4.1567087, 5.636529 ,\n",
       "       4.733452 , 4.6428223, 4.134053 , 7.4337583, 4.3998094, 3.9646745,\n",
       "       6.1098776, 4.3856177, 4.3913655, 7.3051424, 6.0568614, 6.560821 ,\n",
       "       5.0149546, 5.3290668, 4.023847 , 4.4993906, 4.1178894, 3.2645807,\n",
       "       4.962424 , 3.751037 , 7.484893 , 5.0372066, 2.1931207, 5.6862907,\n",
       "       4.7565074, 6.6215873, 6.05066  , 5.832745 , 4.996989 , 7.0155597,\n",
       "       4.271541 , 4.1477194, 3.7871814, 5.6782017, 4.8688745, 4.354598 ,\n",
       "       4.526692 , 4.1955466, 3.863691 , 4.6818676, 6.3423586, 6.1146126,\n",
       "       4.345149 , 4.4609613, 4.605902 , 7.542856 , 5.233918 , 6.7180767,\n",
       "       4.9957237, 4.7980037, 4.927883 , 5.7657022, 4.8194785, 5.6990824,\n",
       "       5.6832438, 5.254248 , 4.7870746, 5.678593 , 6.7088323, 6.1770883,\n",
       "       5.120772 , 6.406385 , 4.734718 , 5.93694  , 6.2560234, 7.0599413,\n",
       "       7.6519947, 4.1352143, 6.395119 , 5.2292976, 3.642444 , 4.448607 ,\n",
       "       5.4074736, 6.0868974, 7.394354 , 7.5424128, 5.8206477, 4.376324 ,\n",
       "       7.28027  , 5.506763 , 5.0143723, 4.913953 , 4.7373643, 3.593433 ,\n",
       "       3.796071 , 6.4358244, 4.5920787, 6.263023 , 5.08019  , 3.7104545,\n",
       "       5.299137 , 6.558222 , 6.650569 , 5.3946786, 4.6846952, 6.283714 ,\n",
       "       6.8065233, 6.119141 , 4.716511 , 4.3091097, 7.118033 , 3.8129396,\n",
       "       5.4723997, 5.0226054, 6.163837 , 5.8340864, 4.5954537, 4.5788426,\n",
       "       5.556599 , 7.624803 , 6.4355683, 6.090013 , 4.1453733, 3.766577 ,\n",
       "       6.4172955, 3.7308285, 5.8837023, 3.8761404, 5.449452 , 4.536088 ,\n",
       "       4.4195194, 4.9357743, 7.248812 , 5.377438 , 6.769373 , 5.310457 ,\n",
       "       4.93348  , 4.4634013, 4.674344 , 6.165791 , 6.385359 , 4.723869 ,\n",
       "       4.742115 , 5.506422 , 7.329919 , 5.4642615, 5.4446983, 5.446831 ,\n",
       "       6.5235734, 7.532973 , 5.972246 , 4.2841187, 5.2787576, 6.300769 ,\n",
       "       6.802603 , 5.3328924, 5.575585 , 5.6069264, 4.936224 , 3.7155526,\n",
       "       5.1996217, 6.4667926, 7.3708634, 6.604561 , 5.71144  , 3.5244093,\n",
       "       5.260664 , 3.949638 , 5.5395265, 6.893944 , 5.088491 , 6.4833083,\n",
       "       6.4654884, 4.1915445, 4.772398 , 4.725552 , 4.4198318, 6.562841 ,\n",
       "       5.4106803, 6.121112 , 7.4247146, 7.6821647, 5.2648616, 5.466275 ,\n",
       "       4.463655 , 4.618189 , 6.4461927, 6.244505 , 4.373708 , 6.3273535,\n",
       "       5.913689 , 3.9463074, 4.7724466, 4.474461 , 5.9379716, 6.590402 ,\n",
       "       4.7233915, 5.775513 , 5.999334 , 5.883717 , 6.408053 , 4.5834002,\n",
       "       4.0296793, 5.9273453, 6.8659515, 3.697609 , 3.9236495, 4.236068 ,\n",
       "       5.8101788, 7.211521 , 5.5234494, 7.0105014, 4.1767316, 4.6439896,\n",
       "       6.0319233, 5.5722346, 5.0103884, 4.4286294, 5.04772  , 4.31613  ,\n",
       "       6.2864447, 4.7615886, 5.548269 , 4.770436 , 4.249105 , 5.7404375,\n",
       "       4.6013594, 3.4563353, 7.1340237, 5.4611797, 6.4418015, 6.007159 ,\n",
       "       7.5097184, 3.9689126, 5.121776 , 4.944842 , 4.672208 , 6.5009584,\n",
       "       7.093494 , 5.823709 , 5.8761854, 6.277547 , 4.251066 , 6.8848224,\n",
       "       4.0448394, 7.6616282, 4.573528 , 7.3922725, 5.0862947, 3.667418 ,\n",
       "       6.549333 , 4.3451133, 5.5789514, 6.754031 , 6.4752   , 4.7669935,\n",
       "       4.708682 , 7.0256543, 6.5797634, 5.8220778, 6.5094686, 6.7787333],\n",
       "      dtype=float32)"
      ]
     },
     "execution_count": 66,
     "metadata": {},
     "output_type": "execute_result"
    }
   ],
   "source": [
    "y_pred_test_final"
   ]
  },
  {
   "cell_type": "code",
   "execution_count": 69,
   "metadata": {},
   "outputs": [],
   "source": [
    "y_pred_test_final = pd.DataFrame(y_pred_test_final)"
   ]
  },
  {
   "cell_type": "code",
   "execution_count": 70,
   "metadata": {},
   "outputs": [
    {
     "data": {
      "text/html": [
       "<div>\n",
       "<style scoped>\n",
       "    .dataframe tbody tr th:only-of-type {\n",
       "        vertical-align: middle;\n",
       "    }\n",
       "\n",
       "    .dataframe tbody tr th {\n",
       "        vertical-align: top;\n",
       "    }\n",
       "\n",
       "    .dataframe thead th {\n",
       "        text-align: right;\n",
       "    }\n",
       "</style>\n",
       "<table border=\"1\" class=\"dataframe\">\n",
       "  <thead>\n",
       "    <tr style=\"text-align: right;\">\n",
       "      <th></th>\n",
       "      <th>0</th>\n",
       "    </tr>\n",
       "  </thead>\n",
       "  <tbody>\n",
       "    <tr>\n",
       "      <th>0</th>\n",
       "      <td>6.211185</td>\n",
       "    </tr>\n",
       "    <tr>\n",
       "      <th>1</th>\n",
       "      <td>6.000019</td>\n",
       "    </tr>\n",
       "    <tr>\n",
       "      <th>2</th>\n",
       "      <td>4.883999</td>\n",
       "    </tr>\n",
       "    <tr>\n",
       "      <th>3</th>\n",
       "      <td>6.377594</td>\n",
       "    </tr>\n",
       "    <tr>\n",
       "      <th>4</th>\n",
       "      <td>7.196527</td>\n",
       "    </tr>\n",
       "    <tr>\n",
       "      <th>...</th>\n",
       "      <td>...</td>\n",
       "    </tr>\n",
       "    <tr>\n",
       "      <th>385</th>\n",
       "      <td>7.025654</td>\n",
       "    </tr>\n",
       "    <tr>\n",
       "      <th>386</th>\n",
       "      <td>6.579763</td>\n",
       "    </tr>\n",
       "    <tr>\n",
       "      <th>387</th>\n",
       "      <td>5.822078</td>\n",
       "    </tr>\n",
       "    <tr>\n",
       "      <th>388</th>\n",
       "      <td>6.509469</td>\n",
       "    </tr>\n",
       "    <tr>\n",
       "      <th>389</th>\n",
       "      <td>6.778733</td>\n",
       "    </tr>\n",
       "  </tbody>\n",
       "</table>\n",
       "<p>390 rows × 1 columns</p>\n",
       "</div>"
      ],
      "text/plain": [
       "            0\n",
       "0    6.211185\n",
       "1    6.000019\n",
       "2    4.883999\n",
       "3    6.377594\n",
       "4    7.196527\n",
       "..        ...\n",
       "385  7.025654\n",
       "386  6.579763\n",
       "387  5.822078\n",
       "388  6.509469\n",
       "389  6.778733\n",
       "\n",
       "[390 rows x 1 columns]"
      ]
     },
     "execution_count": 70,
     "metadata": {},
     "output_type": "execute_result"
    }
   ],
   "source": [
    "y_pred_test_final"
   ]
  },
  {
   "cell_type": "code",
   "execution_count": 71,
   "metadata": {},
   "outputs": [],
   "source": [
    "data_submission = test_data['ID']"
   ]
  },
  {
   "cell_type": "markdown",
   "metadata": {},
   "source": [
    "## Preparing Submission File"
   ]
  },
  {
   "cell_type": "code",
   "execution_count": 72,
   "metadata": {},
   "outputs": [],
   "source": [
    "submission_file = pd.concat([data_submission,y_pred_test_final], axis = 1)"
   ]
  },
  {
   "cell_type": "code",
   "execution_count": 73,
   "metadata": {},
   "outputs": [
    {
     "data": {
      "text/html": [
       "<div>\n",
       "<style scoped>\n",
       "    .dataframe tbody tr th:only-of-type {\n",
       "        vertical-align: middle;\n",
       "    }\n",
       "\n",
       "    .dataframe tbody tr th {\n",
       "        vertical-align: top;\n",
       "    }\n",
       "\n",
       "    .dataframe thead th {\n",
       "        text-align: right;\n",
       "    }\n",
       "</style>\n",
       "<table border=\"1\" class=\"dataframe\">\n",
       "  <thead>\n",
       "    <tr style=\"text-align: right;\">\n",
       "      <th></th>\n",
       "      <th>ID</th>\n",
       "      <th>0</th>\n",
       "    </tr>\n",
       "  </thead>\n",
       "  <tbody>\n",
       "    <tr>\n",
       "      <th>0</th>\n",
       "      <td>1614</td>\n",
       "      <td>6.211185</td>\n",
       "    </tr>\n",
       "    <tr>\n",
       "      <th>1</th>\n",
       "      <td>1405</td>\n",
       "      <td>6.000019</td>\n",
       "    </tr>\n",
       "    <tr>\n",
       "      <th>2</th>\n",
       "      <td>974</td>\n",
       "      <td>4.883999</td>\n",
       "    </tr>\n",
       "    <tr>\n",
       "      <th>3</th>\n",
       "      <td>1055</td>\n",
       "      <td>6.377594</td>\n",
       "    </tr>\n",
       "    <tr>\n",
       "      <th>4</th>\n",
       "      <td>307</td>\n",
       "      <td>7.196527</td>\n",
       "    </tr>\n",
       "    <tr>\n",
       "      <th>...</th>\n",
       "      <td>...</td>\n",
       "      <td>...</td>\n",
       "    </tr>\n",
       "    <tr>\n",
       "      <th>385</th>\n",
       "      <td>618</td>\n",
       "      <td>7.025654</td>\n",
       "    </tr>\n",
       "    <tr>\n",
       "      <th>386</th>\n",
       "      <td>426</td>\n",
       "      <td>6.579763</td>\n",
       "    </tr>\n",
       "    <tr>\n",
       "      <th>387</th>\n",
       "      <td>966</td>\n",
       "      <td>5.822078</td>\n",
       "    </tr>\n",
       "    <tr>\n",
       "      <th>388</th>\n",
       "      <td>849</td>\n",
       "      <td>6.509469</td>\n",
       "    </tr>\n",
       "    <tr>\n",
       "      <th>389</th>\n",
       "      <td>1600</td>\n",
       "      <td>6.778733</td>\n",
       "    </tr>\n",
       "  </tbody>\n",
       "</table>\n",
       "<p>390 rows × 2 columns</p>\n",
       "</div>"
      ],
      "text/plain": [
       "       ID         0\n",
       "0    1614  6.211185\n",
       "1    1405  6.000019\n",
       "2     974  4.883999\n",
       "3    1055  6.377594\n",
       "4     307  7.196527\n",
       "..    ...       ...\n",
       "385   618  7.025654\n",
       "386   426  6.579763\n",
       "387   966  5.822078\n",
       "388   849  6.509469\n",
       "389  1600  6.778733\n",
       "\n",
       "[390 rows x 2 columns]"
      ]
     },
     "execution_count": 73,
     "metadata": {},
     "output_type": "execute_result"
    }
   ],
   "source": [
    "submission_file"
   ]
  },
  {
   "cell_type": "markdown",
   "metadata": {},
   "source": [
    "## Saving World Happiness in Excel Sheet"
   ]
  },
  {
   "cell_type": "code",
   "execution_count": 74,
   "metadata": {},
   "outputs": [],
   "source": [
    "submission_file.to_csv('World_Happiness.csv', header=False, index=False)"
   ]
  },
  {
   "cell_type": "code",
   "execution_count": null,
   "metadata": {},
   "outputs": [],
   "source": []
  }
 ],
 "metadata": {
  "kernelspec": {
   "display_name": "Python 3",
   "language": "python",
   "name": "python3"
  },
  "language_info": {
   "codemirror_mode": {
    "name": "ipython",
    "version": 3
   },
   "file_extension": ".py",
   "mimetype": "text/x-python",
   "name": "python",
   "nbconvert_exporter": "python",
   "pygments_lexer": "ipython3",
   "version": "3.8.5"
  }
 },
 "nbformat": 4,
 "nbformat_minor": 4
}
